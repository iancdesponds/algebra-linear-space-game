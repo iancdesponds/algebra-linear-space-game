{
 "cells": [
  {
   "cell_type": "markdown",
   "metadata": {},
   "source": [
    "# Projeto: jogo estilo \"Angry Birds no espaço\"\n",
    "\n",
    "Neste projeto, faremos um jogo no estilo \"Angry Birds no espaço\".\n",
    "\n",
    "O jogo funciona da seguinte forma:\n",
    "\n",
    "1. O objetivo é acertar um objeto em um alvo (o grupo pode escolher que tipo de objeto se trata).\n",
    "2. O jogador usa um canhão para disparar o objeto, e manipula a direção e módulo da velocidade inicial do objeto usando o *mouse*.\n",
    "3. O objeto, em princípio, navega em movimento uniforme através do espaço.\n",
    "4. Alguns corpos celestes realizam atração gravitacional, desviando a rota do objeto.\n",
    "5. Níveis mais avançados têm mais de um corpo celeste. Pense sobre o que acontece quando há duas acelerações gravitacionais atuando sobre o objeto lançado.\n",
    "6. Use texturas para caracterizar os elementos do jogo!\n",
    "\n",
    "Anotações importantes:\n",
    "\n",
    "1. O grupo de projeto deve definir todos os elementos e parâmetros do jogo pensando em melhorar sua jogabilidade.\n",
    "2. O grupo deve enviar um link para o repositório GitHub onde está localizado o jogo.\n",
    "\n",
    "**ENTREGAS**\n",
    "* Link para o repositório onde está o jogo.\n",
    "* No `README.md` do repositório, inclua uma descrição de como jogar o jogo, como executar o programa, etc.\n",
    "* No `README.md`, inclua uma breve descrição matemática do modelo físico que você implementou.\n",
    "* Inclua também, no próprio `README.md`, um GIF com o gameplay do jogo\n",
    "\n",
    "**RUBRICA**\n",
    "\n",
    "O projeto será avaliado usando a rubrica abaixo. Os níveis são cumulativos, isto é, para passar de um nível, *todos* os requisitos dele devem ser cumpridos. As rubricas foram inspiradas nos níveis da [Taxonomia de Bloom](https://cft.vanderbilt.edu/guides-sub-pages/blooms-taxonomy/).\n",
    "\n",
    "| Nível | Descrição | [Tax. de Bloom](https://cft.vanderbilt.edu/guides-sub-pages/blooms-taxonomy/) |\n",
    "| --- | --- | --- |\n",
    "| F | Não entregue ou entregue sem completar o `README.md` ou entregue sem adições em relação ao código visto em sala | Não fez |\n",
    "| E | O jogo foi entregue, mas o `README.md` não indica como instalar ou rodar o programa. | Entender (-) |\n",
    "| D | O jogo roda com alguns travamentos ou o `README.md` não descreve bem o modelo físico usado ou não tem correpondência com o modelo implementado. | Entender | \n",
    "| C | O jogo funciona sem travar e o `README.md` está completo, mas o jogo está muito difícil de jogar devido à falta de ajuste de parâmetros (exemplo: o jogo está muito rápido). | Compreender |\n",
    "| B | O jogo funciona bem mas o código está muito confuso e sem comentários | Aplicar |\n",
    "| B+ | jogo obedece a todos os requisitos e o código tem uma correspondência imediata ao modelo físico descrito no `README.md` | Analisar |\n",
    "| A | Jogo funciona perfeitamente e, em adição aos requisitos pedidos, tem ao menos uma feature que altera o modelo físico inicialmente proposto (novas formas de interagir com o jogador, ou novos elementos com comportamentos diferentes, por exemplo) | Avaliar |\n",
    "| A+ | O jogo tem features estéticas em adição às texturas (efeitos sonoros, trilha sonora, possibilidade de customizar parâmetros de dentro do próprio jogo, etc.) | Criar |\n"
   ]
  },
  {
   "cell_type": "markdown",
   "metadata": {},
   "source": []
  }
 ],
 "metadata": {
  "kernelspec": {
   "display_name": "Python 3.7.12",
   "language": "python",
   "name": "python3"
  },
  "language_info": {
   "codemirror_mode": {
    "name": "ipython",
    "version": 3
   },
   "file_extension": ".py",
   "mimetype": "text/x-python",
   "name": "python",
   "nbconvert_exporter": "python",
   "pygments_lexer": "ipython3",
   "version": "3.11.5"
  },
  "orig_nbformat": 4,
  "vscode": {
   "interpreter": {
    "hash": "48a163085726af4aa892ebfc5efd6be8ee4b935d9ea37781e4f79f4457b77d39"
   }
  }
 },
 "nbformat": 4,
 "nbformat_minor": 2
}
